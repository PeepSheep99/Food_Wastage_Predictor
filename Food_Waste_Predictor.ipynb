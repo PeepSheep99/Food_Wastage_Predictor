{
  "nbformat": 4,
  "nbformat_minor": 0,
  "metadata": {
    "kernelspec": {
      "display_name": "Python 3",
      "language": "python",
      "name": "python3"
    },
    "language_info": {
      "codemirror_mode": {
        "name": "ipython",
        "version": 3
      },
      "file_extension": ".py",
      "mimetype": "text/x-python",
      "name": "python",
      "nbconvert_exporter": "python",
      "pygments_lexer": "ipython3",
      "version": "3.8.3"
    },
    "colab": {
      "name": "Food_Waste_Predictor.ipynb",
      "provenance": [],
      "collapsed_sections": [],
      "include_colab_link": true
    }
  },
  "cells": [
    {
      "cell_type": "markdown",
      "metadata": {
        "id": "view-in-github",
        "colab_type": "text"
      },
      "source": [
        "<a href=\"https://colab.research.google.com/github/PeepSheep99/Food_Wastage_Predictor/blob/main/Food_Waste_Predictor.ipynb\" target=\"_parent\"><img src=\"https://colab.research.google.com/assets/colab-badge.svg\" alt=\"Open In Colab\"/></a>"
      ]
    },
    {
      "cell_type": "code",
      "metadata": {
        "id": "CCwoNiHBPsrt"
      },
      "source": [
        "import pandas as pd\n",
        "import numpy as np\n",
        "from sklearn.linear_model import LinearRegression\n",
        "from sklearn.model_selection import train_test_split"
      ],
      "execution_count": 2,
      "outputs": []
    },
    {
      "cell_type": "code",
      "metadata": {
        "colab": {
          "base_uri": "https://localhost:8080/"
        },
        "id": "M_wsNhhcFwtt",
        "outputId": "7f2ec462-8e92-4016-fbd3-08269396eb37"
      },
      "source": [
        "from google.colab import drive\n",
        "drive.mount('/content/drive')"
      ],
      "execution_count": 3,
      "outputs": [
        {
          "output_type": "stream",
          "text": [
            "Drive already mounted at /content/drive; to attempt to forcibly remount, call drive.mount(\"/content/drive\", force_remount=True).\n"
          ],
          "name": "stdout"
        }
      ]
    },
    {
      "cell_type": "code",
      "metadata": {
        "colab": {
          "base_uri": "https://localhost:8080/",
          "height": 739
        },
        "id": "7zyNLvnwPsr5",
        "outputId": "a89786dc-efd3-4c93-99f6-f96c2262e3e2"
      },
      "source": [
        "data=pd.read_csv(\"ULC_Final_DS.csv\")\n",
        "data.columns.str.match(\"Unnamed\")\n",
        "data.loc[:,~data.columns.str.match(\"Unnamed\")]"
      ],
      "execution_count": 4,
      "outputs": [
        {
          "output_type": "execute_result",
          "data": {
            "text/html": [
              "<div>\n",
              "<style scoped>\n",
              "    .dataframe tbody tr th:only-of-type {\n",
              "        vertical-align: middle;\n",
              "    }\n",
              "\n",
              "    .dataframe tbody tr th {\n",
              "        vertical-align: top;\n",
              "    }\n",
              "\n",
              "    .dataframe thead th {\n",
              "        text-align: right;\n",
              "    }\n",
              "</style>\n",
              "<table border=\"1\" class=\"dataframe\">\n",
              "  <thead>\n",
              "    <tr style=\"text-align: right;\">\n",
              "      <th></th>\n",
              "      <th>Name of the restaurant</th>\n",
              "      <th>Address</th>\n",
              "      <th>Cooking-waste</th>\n",
              "      <th>storage waste</th>\n",
              "      <th>customer leftovers</th>\n",
              "      <th>weekly wastage</th>\n",
              "      <th>management frequency</th>\n",
              "      <th>additional steps</th>\n",
              "      <th>cooks training-frequency</th>\n",
              "      <th>last-minute adjustments</th>\n",
              "      <th>Rating</th>\n",
              "    </tr>\n",
              "  </thead>\n",
              "  <tbody>\n",
              "    <tr>\n",
              "      <th>0</th>\n",
              "      <td>Kadai fam restaurant</td>\n",
              "      <td>Yelahanka</td>\n",
              "      <td>Occasionally</td>\n",
              "      <td>Occasionally</td>\n",
              "      <td>Frequently</td>\n",
              "      <td>Never</td>\n",
              "      <td>Always</td>\n",
              "      <td>Nothing</td>\n",
              "      <td>Always</td>\n",
              "      <td>Always</td>\n",
              "      <td>5</td>\n",
              "    </tr>\n",
              "    <tr>\n",
              "      <th>1</th>\n",
              "      <td>ThindI mane</td>\n",
              "      <td>New town</td>\n",
              "      <td>Rarely</td>\n",
              "      <td>never</td>\n",
              "      <td>Rarely</td>\n",
              "      <td>Never</td>\n",
              "      <td>Rarely</td>\n",
              "      <td>Nothing</td>\n",
              "      <td>Always</td>\n",
              "      <td>Never</td>\n",
              "      <td>4</td>\n",
              "    </tr>\n",
              "    <tr>\n",
              "      <th>2</th>\n",
              "      <td>Onesta</td>\n",
              "      <td>Yelahanka, new town</td>\n",
              "      <td>Rarely</td>\n",
              "      <td>Occasionally</td>\n",
              "      <td>Always</td>\n",
              "      <td>A reasonable amount</td>\n",
              "      <td>Rarely</td>\n",
              "      <td>Nothing</td>\n",
              "      <td>Never</td>\n",
              "      <td>Frequently</td>\n",
              "      <td>3</td>\n",
              "    </tr>\n",
              "    <tr>\n",
              "      <th>3</th>\n",
              "      <td>Pizza hut</td>\n",
              "      <td>Yelahanka new town</td>\n",
              "      <td>Occasionally</td>\n",
              "      <td>Occasionally</td>\n",
              "      <td>Always</td>\n",
              "      <td>A reasonable amount</td>\n",
              "      <td>Rarely</td>\n",
              "      <td>Nothing</td>\n",
              "      <td>Frequently</td>\n",
              "      <td>Never</td>\n",
              "      <td>5</td>\n",
              "    </tr>\n",
              "    <tr>\n",
              "      <th>4</th>\n",
              "      <td>Beijing bites</td>\n",
              "      <td>Yelahanka new town</td>\n",
              "      <td>Rarely</td>\n",
              "      <td>never</td>\n",
              "      <td>Rarely</td>\n",
              "      <td>More than you should</td>\n",
              "      <td>Rarely</td>\n",
              "      <td>I have a compost heap</td>\n",
              "      <td>Occasionally</td>\n",
              "      <td>Never</td>\n",
              "      <td>3</td>\n",
              "    </tr>\n",
              "    <tr>\n",
              "      <th>...</th>\n",
              "      <td>...</td>\n",
              "      <td>...</td>\n",
              "      <td>...</td>\n",
              "      <td>...</td>\n",
              "      <td>...</td>\n",
              "      <td>...</td>\n",
              "      <td>...</td>\n",
              "      <td>...</td>\n",
              "      <td>...</td>\n",
              "      <td>...</td>\n",
              "      <td>...</td>\n",
              "    </tr>\n",
              "    <tr>\n",
              "      <th>71</th>\n",
              "      <td>Taj hotel</td>\n",
              "      <td>Rajanukunte, Bangalore</td>\n",
              "      <td>Frequently</td>\n",
              "      <td>Occasionally</td>\n",
              "      <td>never</td>\n",
              "      <td>A reasonable amount</td>\n",
              "      <td>Rarely</td>\n",
              "      <td>Nothing</td>\n",
              "      <td>Never</td>\n",
              "      <td>Never</td>\n",
              "      <td>3</td>\n",
              "    </tr>\n",
              "    <tr>\n",
              "      <th>72</th>\n",
              "      <td>Biryani point</td>\n",
              "      <td>Rajanukunte, Bangalore</td>\n",
              "      <td>Never</td>\n",
              "      <td>Occasionally</td>\n",
              "      <td>Rarely</td>\n",
              "      <td>A reasonable amount</td>\n",
              "      <td>Rarely</td>\n",
              "      <td>Nothing</td>\n",
              "      <td>Never</td>\n",
              "      <td>Never</td>\n",
              "      <td>2</td>\n",
              "    </tr>\n",
              "    <tr>\n",
              "      <th>73</th>\n",
              "      <td>Domino's</td>\n",
              "      <td>Singanayakanahalli, Bangalore</td>\n",
              "      <td>Occasionally</td>\n",
              "      <td>never</td>\n",
              "      <td>Frequently</td>\n",
              "      <td>A reasonable amount</td>\n",
              "      <td>Never</td>\n",
              "      <td>Nothing</td>\n",
              "      <td>Always</td>\n",
              "      <td>Rarely</td>\n",
              "      <td>3</td>\n",
              "    </tr>\n",
              "    <tr>\n",
              "      <th>74</th>\n",
              "      <td>Vyshnavi grand</td>\n",
              "      <td>Rajanukunte, Bangalore</td>\n",
              "      <td>Rarely</td>\n",
              "      <td>Frequently</td>\n",
              "      <td>Frequently</td>\n",
              "      <td>More than you should</td>\n",
              "      <td>Rarely</td>\n",
              "      <td>Nothing</td>\n",
              "      <td>Frequently</td>\n",
              "      <td>Rarely</td>\n",
              "      <td>3</td>\n",
              "    </tr>\n",
              "    <tr>\n",
              "      <th>75</th>\n",
              "      <td>Benne Dosa Camp</td>\n",
              "      <td>Rajanukunte, Bangalore</td>\n",
              "      <td>Rarely</td>\n",
              "      <td>Rarely</td>\n",
              "      <td>Rarely</td>\n",
              "      <td>Very little</td>\n",
              "      <td>Always</td>\n",
              "      <td>Nothing</td>\n",
              "      <td>Frequently</td>\n",
              "      <td>Rarely</td>\n",
              "      <td>4</td>\n",
              "    </tr>\n",
              "  </tbody>\n",
              "</table>\n",
              "<p>76 rows × 11 columns</p>\n",
              "</div>"
            ],
            "text/plain": [
              "   Name of the restaurant  ... Rating\n",
              "0    Kadai fam restaurant  ...      5\n",
              "1             ThindI mane  ...      4\n",
              "2                  Onesta  ...      3\n",
              "3               Pizza hut  ...      5\n",
              "4           Beijing bites  ...      3\n",
              "..                    ...  ...    ...\n",
              "71              Taj hotel  ...      3\n",
              "72          Biryani point  ...      2\n",
              "73               Domino's  ...      3\n",
              "74         Vyshnavi grand  ...      3\n",
              "75        Benne Dosa Camp  ...      4\n",
              "\n",
              "[76 rows x 11 columns]"
            ]
          },
          "metadata": {
            "tags": []
          },
          "execution_count": 4
        }
      ]
    },
    {
      "cell_type": "code",
      "metadata": {
        "scrolled": false,
        "colab": {
          "base_uri": "https://localhost:8080/"
        },
        "id": "z-v5hq9dPsr9",
        "outputId": "e2a5f8a4-6c40-45ea-ea3f-0e54941ec1e5"
      },
      "source": [
        "from sklearn.preprocessing import LabelEncoder\n",
        "le=LabelEncoder()\n",
        "\n",
        "data['management frequency']=le.fit_transform(data['management frequency'])\n",
        "print(data['management frequency'])\n",
        "\n",
        "data['cooks training-frequency']=le.fit_transform(data['cooks training-frequency'])\n",
        "print(data['cooks training-frequency'])\n",
        "\n",
        "data['last-minute adjustments']=le.fit_transform(data['last-minute adjustments'])\n",
        "print(data['last-minute adjustments'])\n",
        "\n",
        "data['Rating']=le.fit_transform(data['Rating'])\n",
        "print(data['Rating'])"
      ],
      "execution_count": 5,
      "outputs": [
        {
          "output_type": "stream",
          "text": [
            "0     0\n",
            "1     4\n",
            "2     4\n",
            "3     4\n",
            "4     4\n",
            "     ..\n",
            "71    4\n",
            "72    4\n",
            "73    2\n",
            "74    4\n",
            "75    0\n",
            "Name: management frequency, Length: 76, dtype: int64\n",
            "0     0\n",
            "1     0\n",
            "2     2\n",
            "3     1\n",
            "4     3\n",
            "     ..\n",
            "71    2\n",
            "72    2\n",
            "73    0\n",
            "74    1\n",
            "75    1\n",
            "Name: cooks training-frequency, Length: 76, dtype: int64\n",
            "0     0\n",
            "1     2\n",
            "2     1\n",
            "3     2\n",
            "4     2\n",
            "     ..\n",
            "71    2\n",
            "72    2\n",
            "73    4\n",
            "74    4\n",
            "75    4\n",
            "Name: last-minute adjustments, Length: 76, dtype: int64\n",
            "0     3\n",
            "1     2\n",
            "2     1\n",
            "3     3\n",
            "4     1\n",
            "     ..\n",
            "71    1\n",
            "72    0\n",
            "73    1\n",
            "74    1\n",
            "75    2\n",
            "Name: Rating, Length: 76, dtype: int64\n"
          ],
          "name": "stdout"
        }
      ]
    },
    {
      "cell_type": "code",
      "metadata": {
        "id": "iRD344BxPsr-"
      },
      "source": [
        "x1= data['management frequency']\n",
        "x2= data['cooks training-frequency']\n",
        "x3= data['last-minute adjustments']\n",
        "y1= data['Rating']\n",
        "\n",
        "features= np.array([x1,x2,x3]).T\n",
        "target= np.array(y1).reshape(-1,1)"
      ],
      "execution_count": 6,
      "outputs": []
    },
    {
      "cell_type": "code",
      "metadata": {
        "id": "5KWIXDYfPsr_"
      },
      "source": [
        "x_train, x_test, y_train, y_test = train_test_split(features, target, train_size=0.90)"
      ],
      "execution_count": 7,
      "outputs": []
    },
    {
      "cell_type": "code",
      "metadata": {
        "scrolled": true,
        "colab": {
          "base_uri": "https://localhost:8080/",
          "height": 172
        },
        "id": "RL8dz55ZPsr_",
        "outputId": "1f107717-4546-4e30-d6a1-8132d0199810"
      },
      "source": [
        "df=data.corr(method='pearson')\n",
        "df"
      ],
      "execution_count": 8,
      "outputs": [
        {
          "output_type": "execute_result",
          "data": {
            "text/html": [
              "<div>\n",
              "<style scoped>\n",
              "    .dataframe tbody tr th:only-of-type {\n",
              "        vertical-align: middle;\n",
              "    }\n",
              "\n",
              "    .dataframe tbody tr th {\n",
              "        vertical-align: top;\n",
              "    }\n",
              "\n",
              "    .dataframe thead th {\n",
              "        text-align: right;\n",
              "    }\n",
              "</style>\n",
              "<table border=\"1\" class=\"dataframe\">\n",
              "  <thead>\n",
              "    <tr style=\"text-align: right;\">\n",
              "      <th></th>\n",
              "      <th>management frequency</th>\n",
              "      <th>cooks training-frequency</th>\n",
              "      <th>last-minute adjustments</th>\n",
              "      <th>Rating</th>\n",
              "    </tr>\n",
              "  </thead>\n",
              "  <tbody>\n",
              "    <tr>\n",
              "      <th>management frequency</th>\n",
              "      <td>1.000000</td>\n",
              "      <td>0.485378</td>\n",
              "      <td>0.018729</td>\n",
              "      <td>-0.582635</td>\n",
              "    </tr>\n",
              "    <tr>\n",
              "      <th>cooks training-frequency</th>\n",
              "      <td>0.485378</td>\n",
              "      <td>1.000000</td>\n",
              "      <td>0.069178</td>\n",
              "      <td>-0.463264</td>\n",
              "    </tr>\n",
              "    <tr>\n",
              "      <th>last-minute adjustments</th>\n",
              "      <td>0.018729</td>\n",
              "      <td>0.069178</td>\n",
              "      <td>1.000000</td>\n",
              "      <td>-0.053463</td>\n",
              "    </tr>\n",
              "    <tr>\n",
              "      <th>Rating</th>\n",
              "      <td>-0.582635</td>\n",
              "      <td>-0.463264</td>\n",
              "      <td>-0.053463</td>\n",
              "      <td>1.000000</td>\n",
              "    </tr>\n",
              "  </tbody>\n",
              "</table>\n",
              "</div>"
            ],
            "text/plain": [
              "                          management frequency  ...    Rating\n",
              "management frequency                  1.000000  ... -0.582635\n",
              "cooks training-frequency              0.485378  ... -0.463264\n",
              "last-minute adjustments               0.018729  ... -0.053463\n",
              "Rating                               -0.582635  ...  1.000000\n",
              "\n",
              "[4 rows x 4 columns]"
            ]
          },
          "metadata": {
            "tags": []
          },
          "execution_count": 8
        }
      ]
    },
    {
      "cell_type": "code",
      "metadata": {
        "colab": {
          "base_uri": "https://localhost:8080/"
        },
        "id": "thJjJmGzPssA",
        "outputId": "69b70a1b-31c9-4553-edcc-6555aa43dae6"
      },
      "source": [
        "l=[]\n",
        "for i in df['Rating']:\n",
        "    if i != 1.0:\n",
        "        l.append(i)\n",
        "print(\"The maximum correlation value is:\",max(l))\n",
        "val=max(l)\n",
        "\n",
        "if val > -0.57 and val <0.-0.59 :\n",
        "    print(\"Therefore, the main factor which influenced the rating is the way the resturant manages their food waste.\")\n",
        "elif val > -0.69 and val < -0.46 :\n",
        "    print(\"Therefore, the main factor which influenced the rating is the lack of chef's experirence.\")\n",
        "elif val>-0.99 and val< -0.050 :\n",
        "    print(\"Therefore, the main factor which influenced the rating is the last minute adjustmenents.\")\n"
      ],
      "execution_count": 9,
      "outputs": [
        {
          "output_type": "stream",
          "text": [
            "The maximum correlation value is: -0.05346340238433228\n",
            "Therefore, the main factor which influenced the rating is the last minute adjustmenents.\n"
          ],
          "name": "stdout"
        }
      ]
    },
    {
      "cell_type": "code",
      "metadata": {
        "colab": {
          "base_uri": "https://localhost:8080/"
        },
        "id": "0DJAUQplPssB",
        "outputId": "3e9eecf4-d1ec-4c1a-9e60-26254c53a2e3"
      },
      "source": [
        "print(\".......A general prediction on overall rating.......\\n\")\n",
        "reg=LinearRegression()\n",
        "reg.fit(x_train,y_train)\n",
        "print(\"Management frequency\t:\")\n",
        "print(\"*management frequency 0)always 1)frequently 2)never 3)occasionally 4)rarely \")\n",
        "p1=int(input(\"\"))\n",
        "print(\"* Cooks training-frequency  0)always 1)frequently 2)never 3)occasionally 4)rarely \")\n",
        "p2=int(input(\"\"))\n",
        "print(\"* Last-minute adjustments: 0)always 1)frequently 2)never 3)occasionally 4)rarely\")\n",
        "p3=int(input(\"\"))\n",
        "\n",
        "pred=int(reg.predict([[p1,p2,p3]]))\n",
        "if pred == 0 :\n",
        "    print(\"Poor food waste management\" + \"\\nRating = \",pred);\n",
        "elif pred == 1 :\n",
        "    print(\"Reasonable rating\"+ \"\\nRating = \",pred);\n",
        "elif pred == 2 :\n",
        "    print(\"Good waste management\"+ \"\\nRating = \",pred);\n",
        "elif pred == 3 :\n",
        "    print(\"Amazing waste management\"+ \"\\nRating = \",pred);\n",
        "elif pred == 4 :\n",
        "    print(\"Excellent waste management\"+ \"\\nRating = \",pred);"
      ],
      "execution_count": 11,
      "outputs": [
        {
          "output_type": "stream",
          "text": [
            ".......A general prediction on overall rating.......\n",
            "\n",
            "Management frequency\t:\n",
            "*management frequency 0)always 1)frequently 2)never 3)occasionally 4)rarely \n",
            "1\n",
            "* Cooks training-frequency  0)always 1)frequently 2)never 3)occasionally 4)rarely \n",
            "2\n",
            "* Last-minute adjustments: 0)always 1)frequently 2)never 3)occasionally 4)rarely\n",
            "3\n",
            "Good waste management\n",
            "Rating =  2\n"
          ],
          "name": "stdout"
        }
      ]
    }
  ]
}